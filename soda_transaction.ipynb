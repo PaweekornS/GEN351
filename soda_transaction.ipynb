{
 "cells": [
  {
   "cell_type": "code",
   "execution_count": 1,
   "id": "db9728a0",
   "metadata": {},
   "outputs": [],
   "source": [
    "import pandas as pd\n",
    "import numpy as np\n",
    "import matplotlib.pyplot as plt\n",
    "import matplotlib.dates as mdates\n",
    "import seaborn as sns"
   ]
  },
  {
   "cell_type": "markdown",
   "id": "fe7ab3c0",
   "metadata": {},
   "source": [
    "Manipulate taste"
   ]
  },
  {
   "cell_type": "code",
   "execution_count": 2,
   "metadata": {},
   "outputs": [
    {
     "data": {
      "text/plain": [
       "79"
      ]
     },
     "execution_count": 2,
     "metadata": {},
     "output_type": "execute_result"
    }
   ],
   "source": [
    "order = []\n",
    "with open('soda_order.txt', 'r') as f:\n",
    "    for line in f:\n",
    "        order.append(line.strip())\n",
    "        \n",
    "order = np.array(order)\n",
    "len(order)"
   ]
  },
  {
   "cell_type": "markdown",
   "id": "8b3c6952",
   "metadata": {},
   "source": [
    "Combine with transaction"
   ]
  },
  {
   "cell_type": "code",
   "execution_count": 3,
   "id": "e7afa1ac",
   "metadata": {},
   "outputs": [
    {
     "data": {
      "application/vnd.microsoft.datawrangler.viewer.v0+json": {
       "columns": [
        {
         "name": "index",
         "rawType": "int64",
         "type": "integer"
        },
        {
         "name": "datetime",
         "rawType": "datetime64[ns]",
         "type": "datetime"
        },
        {
         "name": "Credit",
         "rawType": "int64",
         "type": "integer"
        }
       ],
       "conversionMethod": "pd.DataFrame",
       "ref": "09c7c342-3c1d-484c-9661-b6be0c7f5e6a",
       "rows": [
        [
         "0",
         "2025-04-30 13:35:00",
         "25"
        ],
        [
         "1",
         "2025-04-30 13:43:00",
         "25"
        ],
        [
         "2",
         "2025-04-30 13:47:00",
         "25"
        ],
        [
         "3",
         "2025-04-30 13:47:00",
         "25"
        ],
        [
         "4",
         "2025-04-30 13:49:00",
         "25"
        ],
        [
         "5",
         "2025-04-30 13:49:00",
         "25"
        ],
        [
         "6",
         "2025-04-30 13:50:00",
         "25"
        ],
        [
         "7",
         "2025-04-30 13:51:00",
         "25"
        ],
        [
         "8",
         "2025-04-30 13:52:00",
         "25"
        ],
        [
         "9",
         "2025-04-30 13:54:00",
         "25"
        ],
        [
         "10",
         "2025-04-30 14:00:00",
         "25"
        ],
        [
         "11",
         "2025-04-30 14:00:00",
         "25"
        ],
        [
         "12",
         "2025-04-30 14:00:00",
         "25"
        ],
        [
         "13",
         "2025-04-30 14:02:00",
         "30"
        ],
        [
         "14",
         "2025-04-30 14:03:00",
         "30"
        ],
        [
         "15",
         "2025-04-30 14:06:00",
         "25"
        ],
        [
         "16",
         "2025-04-30 14:07:00",
         "25"
        ],
        [
         "17",
         "2025-04-30 14:07:00",
         "25"
        ],
        [
         "18",
         "2025-04-30 14:08:00",
         "30"
        ],
        [
         "19",
         "2025-04-30 14:12:00",
         "25"
        ],
        [
         "20",
         "2025-04-30 14:13:00",
         "25"
        ],
        [
         "21",
         "2025-04-30 14:15:00",
         "30"
        ],
        [
         "22",
         "2025-04-30 14:16:00",
         "25"
        ],
        [
         "23",
         "2025-04-30 14:17:00",
         "30"
        ],
        [
         "24",
         "2025-04-30 14:18:00",
         "55"
        ],
        [
         "25",
         "2025-04-30 14:23:00",
         "25"
        ],
        [
         "26",
         "2025-04-30 14:25:00",
         "30"
        ],
        [
         "27",
         "2025-04-30 14:25:00",
         "25"
        ],
        [
         "28",
         "2025-04-30 14:26:00",
         "25"
        ],
        [
         "29",
         "2025-04-30 14:27:00",
         "25"
        ],
        [
         "30",
         "2025-04-30 14:29:00",
         "25"
        ],
        [
         "31",
         "2025-04-30 14:31:00",
         "25"
        ],
        [
         "32",
         "2025-04-30 14:35:00",
         "25"
        ],
        [
         "33",
         "2025-04-30 14:38:00",
         "30"
        ],
        [
         "34",
         "2025-04-30 14:38:00",
         "30"
        ],
        [
         "35",
         "2025-04-30 14:39:00",
         "25"
        ],
        [
         "36",
         "2025-04-30 14:40:00",
         "25"
        ],
        [
         "37",
         "2025-04-30 14:44:00",
         "30"
        ],
        [
         "38",
         "2025-04-30 14:46:00",
         "25"
        ],
        [
         "39",
         "2025-04-30 14:47:00",
         "25"
        ],
        [
         "40",
         "2025-04-30 14:49:00",
         "25"
        ],
        [
         "41",
         "2025-04-30 14:51:00",
         "30"
        ],
        [
         "42",
         "2025-04-30 14:55:00",
         "25"
        ],
        [
         "43",
         "2025-04-30 14:57:00",
         "25"
        ],
        [
         "44",
         "2025-04-30 15:00:00",
         "25"
        ],
        [
         "45",
         "2025-04-30 15:02:00",
         "25"
        ],
        [
         "46",
         "2025-04-30 15:05:00",
         "25"
        ],
        [
         "47",
         "2025-04-30 15:06:00",
         "25"
        ],
        [
         "48",
         "2025-04-30 15:06:00",
         "25"
        ],
        [
         "49",
         "2025-04-30 15:12:00",
         "25"
        ]
       ],
       "shape": {
        "columns": 2,
        "rows": 79
       }
      },
      "text/html": [
       "<div>\n",
       "<style scoped>\n",
       "    .dataframe tbody tr th:only-of-type {\n",
       "        vertical-align: middle;\n",
       "    }\n",
       "\n",
       "    .dataframe tbody tr th {\n",
       "        vertical-align: top;\n",
       "    }\n",
       "\n",
       "    .dataframe thead th {\n",
       "        text-align: right;\n",
       "    }\n",
       "</style>\n",
       "<table border=\"1\" class=\"dataframe\">\n",
       "  <thead>\n",
       "    <tr style=\"text-align: right;\">\n",
       "      <th></th>\n",
       "      <th>datetime</th>\n",
       "      <th>Credit</th>\n",
       "    </tr>\n",
       "  </thead>\n",
       "  <tbody>\n",
       "    <tr>\n",
       "      <th>0</th>\n",
       "      <td>2025-04-30 13:35:00</td>\n",
       "      <td>25</td>\n",
       "    </tr>\n",
       "    <tr>\n",
       "      <th>1</th>\n",
       "      <td>2025-04-30 13:43:00</td>\n",
       "      <td>25</td>\n",
       "    </tr>\n",
       "    <tr>\n",
       "      <th>2</th>\n",
       "      <td>2025-04-30 13:47:00</td>\n",
       "      <td>25</td>\n",
       "    </tr>\n",
       "    <tr>\n",
       "      <th>3</th>\n",
       "      <td>2025-04-30 13:47:00</td>\n",
       "      <td>25</td>\n",
       "    </tr>\n",
       "    <tr>\n",
       "      <th>4</th>\n",
       "      <td>2025-04-30 13:49:00</td>\n",
       "      <td>25</td>\n",
       "    </tr>\n",
       "    <tr>\n",
       "      <th>...</th>\n",
       "      <td>...</td>\n",
       "      <td>...</td>\n",
       "    </tr>\n",
       "    <tr>\n",
       "      <th>74</th>\n",
       "      <td>2025-04-30 16:12:00</td>\n",
       "      <td>25</td>\n",
       "    </tr>\n",
       "    <tr>\n",
       "      <th>75</th>\n",
       "      <td>2025-04-30 16:12:00</td>\n",
       "      <td>25</td>\n",
       "    </tr>\n",
       "    <tr>\n",
       "      <th>76</th>\n",
       "      <td>2025-04-30 16:19:00</td>\n",
       "      <td>25</td>\n",
       "    </tr>\n",
       "    <tr>\n",
       "      <th>77</th>\n",
       "      <td>2025-04-30 16:20:00</td>\n",
       "      <td>25</td>\n",
       "    </tr>\n",
       "    <tr>\n",
       "      <th>78</th>\n",
       "      <td>2025-04-30 16:20:00</td>\n",
       "      <td>25</td>\n",
       "    </tr>\n",
       "  </tbody>\n",
       "</table>\n",
       "<p>79 rows × 2 columns</p>\n",
       "</div>"
      ],
      "text/plain": [
       "              datetime  Credit\n",
       "0  2025-04-30 13:35:00      25\n",
       "1  2025-04-30 13:43:00      25\n",
       "2  2025-04-30 13:47:00      25\n",
       "3  2025-04-30 13:47:00      25\n",
       "4  2025-04-30 13:49:00      25\n",
       "..                 ...     ...\n",
       "74 2025-04-30 16:12:00      25\n",
       "75 2025-04-30 16:12:00      25\n",
       "76 2025-04-30 16:19:00      25\n",
       "77 2025-04-30 16:20:00      25\n",
       "78 2025-04-30 16:20:00      25\n",
       "\n",
       "[79 rows x 2 columns]"
      ]
     },
     "execution_count": 3,
     "metadata": {},
     "output_type": "execute_result"
    }
   ],
   "source": [
    "order_df = pd.read_csv('statement.csv')\n",
    "order_df = order_df.iloc[:, :2]\n",
    "order_df['datetime'] = pd.to_datetime(order_df['datetime'], format='%d/%m/%Y %H:%M')\n",
    "order_df"
   ]
  },
  {
   "cell_type": "code",
   "execution_count": 4,
   "id": "054b6ae5",
   "metadata": {},
   "outputs": [
    {
     "data": {
      "text/plain": [
       "array(['blue hawaii', 'green apple', 'strawberry', 'mixed', 'punch',\n",
       "       'lychee', 'orange'], dtype=object)"
      ]
     },
     "execution_count": 4,
     "metadata": {},
     "output_type": "execute_result"
    }
   ],
   "source": [
    "order_df['taste'] = order\n",
    "order_df.loc[ order_df['taste'] == 'apple', 'taste' ] = 'green apple'\n",
    "order_df.loc[ order_df['taste'] == 'Thanos', 'taste' ] = 'mixed'\n",
    "order_df['taste'].unique()"
   ]
  },
  {
   "cell_type": "code",
   "execution_count": 5,
   "id": "1d62e5d7",
   "metadata": {},
   "outputs": [
    {
     "data": {
      "application/vnd.microsoft.datawrangler.viewer.v0+json": {
       "columns": [
        {
         "name": "index",
         "rawType": "int64",
         "type": "integer"
        },
        {
         "name": "datetime",
         "rawType": "datetime64[ns]",
         "type": "datetime"
        },
        {
         "name": "Credit",
         "rawType": "int64",
         "type": "integer"
        },
        {
         "name": "taste",
         "rawType": "object",
         "type": "string"
        }
       ],
       "conversionMethod": "pd.DataFrame",
       "ref": "e20508cc-ca5a-463e-81bb-4086fccc39da",
       "rows": [
        [
         "0",
         "2025-04-30 13:30:00",
         "25",
         "strawberry"
        ],
        [
         "1",
         "2025-04-30 13:35:00",
         "25",
         "blue hawaii"
        ],
        [
         "2",
         "2025-04-30 13:43:00",
         "25",
         "green apple"
        ],
        [
         "3",
         "2025-04-30 13:47:00",
         "25",
         "blue hawaii"
        ],
        [
         "4",
         "2025-04-30 13:47:00",
         "25",
         "blue hawaii"
        ],
        [
         "5",
         "2025-04-30 13:49:00",
         "25",
         "blue hawaii"
        ],
        [
         "6",
         "2025-04-30 13:49:00",
         "25",
         "strawberry"
        ],
        [
         "7",
         "2025-04-30 13:50:00",
         "25",
         "green apple"
        ],
        [
         "8",
         "2025-04-30 13:51:00",
         "25",
         "mixed"
        ],
        [
         "9",
         "2025-04-30 13:52:00",
         "25",
         "mixed"
        ],
        [
         "10",
         "2025-04-30 13:54:00",
         "25",
         "punch"
        ],
        [
         "11",
         "2025-04-30 14:00:00",
         "25",
         "blue hawaii"
        ],
        [
         "12",
         "2025-04-30 14:00:00",
         "25",
         "strawberry"
        ],
        [
         "13",
         "2025-04-30 14:00:00",
         "25",
         "blue hawaii"
        ],
        [
         "14",
         "2025-04-30 14:02:00",
         "30",
         "blue hawaii"
        ],
        [
         "15",
         "2025-04-30 14:03:00",
         "30",
         "green apple"
        ],
        [
         "16",
         "2025-04-30 14:06:00",
         "25",
         "punch"
        ],
        [
         "17",
         "2025-04-30 14:07:00",
         "25",
         "blue hawaii"
        ],
        [
         "18",
         "2025-04-30 14:07:00",
         "25",
         "strawberry"
        ],
        [
         "19",
         "2025-04-30 14:08:00",
         "30",
         "blue hawaii"
        ],
        [
         "20",
         "2025-04-30 14:12:00",
         "25",
         "punch"
        ],
        [
         "21",
         "2025-04-30 14:13:00",
         "25",
         "lychee"
        ],
        [
         "22",
         "2025-04-30 14:15:00",
         "30",
         "orange"
        ],
        [
         "23",
         "2025-04-30 14:16:00",
         "25",
         "orange"
        ],
        [
         "24",
         "2025-04-30 14:17:00",
         "30",
         "green apple"
        ],
        [
         "25",
         "2025-04-30 14:18:00",
         "55",
         "mixed"
        ],
        [
         "26",
         "2025-04-30 14:23:00",
         "25",
         "lychee"
        ],
        [
         "27",
         "2025-04-30 14:25:00",
         "30",
         "green apple"
        ],
        [
         "28",
         "2025-04-30 14:25:00",
         "25",
         "green apple"
        ],
        [
         "29",
         "2025-04-30 14:26:00",
         "25",
         "blue hawaii"
        ],
        [
         "30",
         "2025-04-30 14:27:00",
         "25",
         "strawberry"
        ],
        [
         "31",
         "2025-04-30 14:29:00",
         "25",
         "strawberry"
        ],
        [
         "32",
         "2025-04-30 14:31:00",
         "25",
         "lychee"
        ],
        [
         "33",
         "2025-04-30 14:35:00",
         "25",
         "punch"
        ],
        [
         "34",
         "2025-04-30 14:38:00",
         "30",
         "green apple"
        ],
        [
         "35",
         "2025-04-30 14:38:00",
         "30",
         "lychee"
        ],
        [
         "36",
         "2025-04-30 14:39:00",
         "25",
         "green apple"
        ],
        [
         "37",
         "2025-04-30 14:40:00",
         "25",
         "blue hawaii"
        ],
        [
         "38",
         "2025-04-30 14:44:00",
         "30",
         "blue hawaii"
        ],
        [
         "39",
         "2025-04-30 14:46:00",
         "25",
         "lychee"
        ],
        [
         "40",
         "2025-04-30 14:47:00",
         "25",
         "strawberry"
        ],
        [
         "41",
         "2025-04-30 14:49:00",
         "25",
         "punch"
        ],
        [
         "42",
         "2025-04-30 14:51:00",
         "30",
         "strawberry"
        ],
        [
         "43",
         "2025-04-30 14:55:00",
         "25",
         "mixed"
        ],
        [
         "44",
         "2025-04-30 14:57:00",
         "25",
         "strawberry"
        ],
        [
         "45",
         "2025-04-30 15:00:00",
         "25",
         "orange"
        ],
        [
         "46",
         "2025-04-30 15:02:00",
         "25",
         "mixed"
        ],
        [
         "47",
         "2025-04-30 15:05:00",
         "25",
         "punch"
        ],
        [
         "48",
         "2025-04-30 15:06:00",
         "25",
         "orange"
        ],
        [
         "49",
         "2025-04-30 15:06:00",
         "25",
         "mixed"
        ]
       ],
       "shape": {
        "columns": 3,
        "rows": 80
       }
      },
      "text/html": [
       "<div>\n",
       "<style scoped>\n",
       "    .dataframe tbody tr th:only-of-type {\n",
       "        vertical-align: middle;\n",
       "    }\n",
       "\n",
       "    .dataframe tbody tr th {\n",
       "        vertical-align: top;\n",
       "    }\n",
       "\n",
       "    .dataframe thead th {\n",
       "        text-align: right;\n",
       "    }\n",
       "</style>\n",
       "<table border=\"1\" class=\"dataframe\">\n",
       "  <thead>\n",
       "    <tr style=\"text-align: right;\">\n",
       "      <th></th>\n",
       "      <th>datetime</th>\n",
       "      <th>Credit</th>\n",
       "      <th>taste</th>\n",
       "    </tr>\n",
       "  </thead>\n",
       "  <tbody>\n",
       "    <tr>\n",
       "      <th>0</th>\n",
       "      <td>2025-04-30 13:30:00</td>\n",
       "      <td>25</td>\n",
       "      <td>strawberry</td>\n",
       "    </tr>\n",
       "    <tr>\n",
       "      <th>1</th>\n",
       "      <td>2025-04-30 13:35:00</td>\n",
       "      <td>25</td>\n",
       "      <td>blue hawaii</td>\n",
       "    </tr>\n",
       "    <tr>\n",
       "      <th>2</th>\n",
       "      <td>2025-04-30 13:43:00</td>\n",
       "      <td>25</td>\n",
       "      <td>green apple</td>\n",
       "    </tr>\n",
       "    <tr>\n",
       "      <th>3</th>\n",
       "      <td>2025-04-30 13:47:00</td>\n",
       "      <td>25</td>\n",
       "      <td>blue hawaii</td>\n",
       "    </tr>\n",
       "    <tr>\n",
       "      <th>4</th>\n",
       "      <td>2025-04-30 13:47:00</td>\n",
       "      <td>25</td>\n",
       "      <td>blue hawaii</td>\n",
       "    </tr>\n",
       "    <tr>\n",
       "      <th>...</th>\n",
       "      <td>...</td>\n",
       "      <td>...</td>\n",
       "      <td>...</td>\n",
       "    </tr>\n",
       "    <tr>\n",
       "      <th>75</th>\n",
       "      <td>2025-04-30 16:12:00</td>\n",
       "      <td>25</td>\n",
       "      <td>green apple</td>\n",
       "    </tr>\n",
       "    <tr>\n",
       "      <th>76</th>\n",
       "      <td>2025-04-30 16:12:00</td>\n",
       "      <td>25</td>\n",
       "      <td>green apple</td>\n",
       "    </tr>\n",
       "    <tr>\n",
       "      <th>77</th>\n",
       "      <td>2025-04-30 16:19:00</td>\n",
       "      <td>25</td>\n",
       "      <td>punch</td>\n",
       "    </tr>\n",
       "    <tr>\n",
       "      <th>78</th>\n",
       "      <td>2025-04-30 16:20:00</td>\n",
       "      <td>25</td>\n",
       "      <td>mixed</td>\n",
       "    </tr>\n",
       "    <tr>\n",
       "      <th>79</th>\n",
       "      <td>2025-04-30 16:20:00</td>\n",
       "      <td>25</td>\n",
       "      <td>punch</td>\n",
       "    </tr>\n",
       "  </tbody>\n",
       "</table>\n",
       "<p>80 rows × 3 columns</p>\n",
       "</div>"
      ],
      "text/plain": [
       "              datetime  Credit        taste\n",
       "0  2025-04-30 13:30:00      25   strawberry\n",
       "1  2025-04-30 13:35:00      25  blue hawaii\n",
       "2  2025-04-30 13:43:00      25  green apple\n",
       "3  2025-04-30 13:47:00      25  blue hawaii\n",
       "4  2025-04-30 13:47:00      25  blue hawaii\n",
       "..                 ...     ...          ...\n",
       "75 2025-04-30 16:12:00      25  green apple\n",
       "76 2025-04-30 16:12:00      25  green apple\n",
       "77 2025-04-30 16:19:00      25        punch\n",
       "78 2025-04-30 16:20:00      25        mixed\n",
       "79 2025-04-30 16:20:00      25        punch\n",
       "\n",
       "[80 rows x 3 columns]"
      ]
     },
     "execution_count": 5,
     "metadata": {},
     "output_type": "execute_result"
    }
   ],
   "source": [
    "cash = {\n",
    "    'datetime': pd.Timestamp('2025-04-30 13:30:00'), \n",
    "    'Credit': 25, \n",
    "    'taste': 'strawberry'\n",
    "}\n",
    "\n",
    "order_prep = pd.concat([order_df, pd.DataFrame([cash])])\\\n",
    "    .sort_values('datetime').reset_index(drop=True)\n",
    "order_prep"
   ]
  },
  {
   "cell_type": "markdown",
   "id": "0d75ffd2",
   "metadata": {},
   "source": [
    "Visualization"
   ]
  },
  {
   "cell_type": "code",
   "execution_count": 6,
   "id": "e5246ff9",
   "metadata": {},
   "outputs": [],
   "source": [
    "desired_order = ['blue hawaii', 'green apple', 'strawberry', 'punch', 'lychee', 'orange', 'mixed']\n",
    "custom_palette = ['skyblue', 'lightgreen', 'salmon', 'lightcoral', 'plum', 'orange', 'lightgray']\n",
    "\n",
    "# Create a dictionary to map tastes to colors based on the desired order\n",
    "color_mapping = dict(zip(desired_order, custom_palette))"
   ]
  },
  {
   "cell_type": "code",
   "execution_count": 7,
   "id": "f6530228",
   "metadata": {},
   "outputs": [
    {
     "data": {
      "image/png": "[encoded data removed]",
      "text/plain": [
       "<Figure size 1200x400 with 2 Axes>"
      ]
     },
     "metadata": {},
     "output_type": "display_data"
    }
   ],
   "source": [
    "fig, axes = plt.subplots(1, 2, figsize=(12, 4))\n",
    "plt.subplot(1, 2, 1)\n",
    "sns.histplot(order_prep, x='taste', hue='taste', palette=color_mapping, legend=False)\n",
    "plt.xticks(rotation=45)\n",
    "plt.title('Frequency of each taste')\n",
    "plt.yticks(np.arange(0, 20, step=4))\n",
    "\n",
    "plt.subplot(1, 2, 2)\n",
    "sns.lineplot(order_prep, x='datetime', y='Credit')\n",
    "plt.gca().xaxis.set_major_formatter(mdates.DateFormatter('%H:%M'))\n",
    "plt.title('Sales over time')\n",
    "plt.yticks(np.arange(0, 60, step=10))\n",
    "\n",
    "plt.tight_layout()\n",
    "plt.show()"
   ]
  },
  {
   "cell_type": "markdown",
   "id": "cc77ac17",
   "metadata": {},
   "source": [
    "## Plotly"
   ]
  },
  {
   "cell_type": "code",
   "execution_count": 8,
   "id": "3fe6d0da",
   "metadata": {},
   "outputs": [
    {
     "data": {
      "application/vnd.plotly.v1+json": {
       "config": {
        "plotlyServerURL": "https://plot.ly"
       },
       "data": [
        {
         "alignmentgroup": "True",
         "bingroup": "x",
         "hovertemplate": "taste=%{x}<br>count=%{y}<extra></extra>",
         "legendgroup": "blue hawaii",
         "marker": {
          "color": "skyblue",
          "pattern": {
           "shape": ""
          }
         },
         "name": "blue hawaii",
         "offsetgroup": "blue hawaii",
         "orientation": "v",
         "showlegend": true,
         "type": "histogram",
         "x": [
          "blue hawaii",
          "blue hawaii",
          "blue hawaii",
          "blue hawaii",
          "blue hawaii",
          "blue hawaii",
          "blue hawaii",
          "blue hawaii",
          "blue hawaii",
          "blue hawaii",
          "blue hawaii",
          "blue hawaii",
          "blue hawaii",
          "blue hawaii",
          "blue hawaii",
          "blue hawaii"
         ],
         "xaxis": "x",
         "yaxis": "y"
        },
        {
         "alignmentgroup": "True",
         "bingroup": "x",
         "hovertemplate": "taste=%{x}<br>count=%{y}<extra></extra>",
         "legendgroup": "green apple",
         "marker": {
          "color": "lightgreen",
          "pattern": {
           "shape": ""
          }
         },
         "name": "green apple",
         "offsetgroup": "green apple",
         "orientation": "v",
         "showlegend": true,
         "type": "histogram",
         "x": [
          "green apple",
          "green apple",
          "green apple",
          "green apple",
          "green apple",
          "green apple",
          "green apple",
          "green apple",
          "green apple",
          "green apple",
          "green apple",
          "green apple",
          "green apple",
          "green apple",
          "green apple"
         ],
         "xaxis": "x",
         "yaxis": "y"
        },
        {
         "alignmentgroup": "True",
         "bingroup": "x",
         "hovertemplate": "taste=%{x}<br>count=%{y}<extra></extra>",
         "legendgroup": "strawberry",
         "marker": {
          "color": "salmon",
          "pattern": {
           "shape": ""
          }
         },
         "name": "strawberry",
         "offsetgroup": "strawberry",
         "orientation": "v",
         "showlegend": true,
         "type": "histogram",
         "x": [
          "strawberry",
          "strawberry",
          "strawberry",
          "strawberry",
          "strawberry",
          "strawberry",
          "strawberry",
          "strawberry",
          "strawberry",
          "strawberry"
         ],
         "xaxis": "x",
         "yaxis": "y"
        },
        {
         "alignmentgroup": "True",
         "bingroup": "x",
         "hovertemplate": "taste=%{x}<br>count=%{y}<extra></extra>",
         "legendgroup": "punch",
         "marker": {
          "color": "lightcoral",
          "pattern": {
           "shape": ""
          }
         },
         "name": "punch",
         "offsetgroup": "punch",
         "orientation": "v",
         "showlegend": true,
         "type": "histogram",
         "x": [
          "punch",
          "punch",
          "punch",
          "punch",
          "punch",
          "punch",
          "punch",
          "punch",
          "punch",
          "punch",
          "punch"
         ],
         "xaxis": "x",
         "yaxis": "y"
        },
        {
         "alignmentgroup": "True",
         "bingroup": "x",
         "hovertemplate": "taste=%{x}<br>count=%{y}<extra></extra>",
         "legendgroup": "lychee",
         "marker": {
          "color": "plum",
          "pattern": {
           "shape": ""
          }
         },
         "name": "lychee",
         "offsetgroup": "lychee",
         "orientation": "v",
         "showlegend": true,
         "type": "histogram",
         "x": [
          "lychee",
          "lychee",
          "lychee",
          "lychee",
          "lychee",
          "lychee",
          "lychee",
          "lychee",
          "lychee",
          "lychee",
          "lychee"
         ],
         "xaxis": "x",
         "yaxis": "y"
        },
        {
         "alignmentgroup": "True",
         "bingroup": "x",
         "hovertemplate": "taste=%{x}<br>count=%{y}<extra></extra>",
         "legendgroup": "orange",
         "marker": {
          "color": "orange",
          "pattern": {
           "shape": ""
          }
         },
         "name": "orange",
         "offsetgroup": "orange",
         "orientation": "v",
         "showlegend": true,
         "type": "histogram",
         "x": [
          "orange",
          "orange",
          "orange",
          "orange",
          "orange"
         ],
         "xaxis": "x",
         "yaxis": "y"
        },
        {
         "alignmentgroup": "True",
         "bingroup": "x",
         "hovertemplate": "taste=%{x}<br>count=%{y}<extra></extra>",
         "legendgroup": "mixed",
         "marker": {
          "color": "lightgray",
          "pattern": {
           "shape": ""
          }
         },
         "name": "mixed",
         "offsetgroup": "mixed",
         "orientation": "v",
         "showlegend": true,
         "type": "histogram",
         "x": [
          "mixed",
          "mixed",
          "mixed",
          "mixed",
          "mixed",
          "mixed",
          "mixed",
          "mixed",
          "mixed",
          "mixed",
          "mixed",
          "mixed"
         ],
         "xaxis": "x",
         "yaxis": "y"
        }
       ],
       "layout": {
        "barmode": "relative",
        "legend": {
         "title": {
          "text": "taste"
         },
         "tracegroupgap": 0
        },
        "template": {
         "data": {
          "bar": [
           {
            "error_x": {
             "color": "#2a3f5f"
            },
            "error_y": {
             "color": "#2a3f5f"
            },
            "marker": {
             "line": {
              "color": "#E5ECF6",
              "width": 0.5
             },
             "pattern": {
              "fillmode": "overlay",
              "size": 10,
              "solidity": 0.2
             }
            },
            "type": "bar"
           }
          ],
          "barpolar": [
           {
            "marker": {
             "line": {
              "color": "#E5ECF6",
              "width": 0.5
             },
             "pattern": {
              "fillmode": "overlay",
              "size": 10,
              "solidity": 0.2
             }
            },
            "type": "barpolar"
           }
          ],
          "carpet": [
           {
            "aaxis": {
             "endlinecolor": "#2a3f5f",
             "gridcolor": "white",
             "linecolor": "white",
             "minorgridcolor": "white",
             "startlinecolor": "#2a3f5f"
            },
            "baxis": {
             "endlinecolor": "#2a3f5f",
             "gridcolor": "white",
             "linecolor": "white",
             "minorgridcolor": "white",
             "startlinecolor": "#2a3f5f"
            },
            "type": "carpet"
           }
          ],
          "choropleth": [
           {
            "colorbar": {
             "outlinewidth": 0,
             "ticks": ""
            },
            "type": "choropleth"
           }
          ],
          "contour": [
           {
            "colorbar": {
             "outlinewidth": 0,
             "ticks": ""
            },
            "colorscale": [
             [
              0,
              "#0d0887"
             ],
             [
              0.1111111111111111,
              "#46039f"
             ],
             [
              0.2222222222222222,
              "#7201a8"
             ],
             [
              0.3333333333333333,
              "#9c179e"
             ],
             [
              0.4444444444444444,
              "#bd3786"
             ],
             [
              0.5555555555555556,
              "#d8576b"
             ],
             [
              0.6666666666666666,
              "#ed7953"
             ],
             [
              0.7777777777777778,
              "#fb9f3a"
             ],
             [
              0.8888888888888888,
              "#fdca26"
             ],
             [
              1,
              "#f0f921"
             ]
            ],
            "type": "contour"
           }
          ],
          "contourcarpet": [
           {
            "colorbar": {
             "outlinewidth": 0,
             "ticks": ""
            },
            "type": "contourcarpet"
           }
          ],
          "heatmap": [
           {
            "colorbar": {
             "outlinewidth": 0,
             "ticks": ""
            },
            "colorscale": [
             [
              0,
              "#0d0887"
             ],
             [
              0.1111111111111111,
              "#46039f"
             ],
             [
              0.2222222222222222,
              "#7201a8"
             ],
             [
              0.3333333333333333,
              "#9c179e"
             ],
             [
              0.4444444444444444,
              "#bd3786"
             ],
             [
              0.5555555555555556,
              "#d8576b"
             ],
             [
              0.6666666666666666,
              "#ed7953"
             ],
             [
              0.7777777777777778,
              "#fb9f3a"
             ],
             [
              0.8888888888888888,
              "#fdca26"
             ],
             [
              1,
              "#f0f921"
             ]
            ],
            "type": "heatmap"
           }
          ],
          "heatmapgl": [
           {
            "colorbar": {
             "outlinewidth": 0,
             "ticks": ""
            },
            "colorscale": [
             [
              0,
              "#0d0887"
             ],
             [
              0.1111111111111111,
              "#46039f"
             ],
             [
              0.2222222222222222,
              "#7201a8"
             ],
             [
              0.3333333333333333,
              "#9c179e"
             ],
             [
              0.4444444444444444,
              "#bd3786"
             ],
             [
              0.5555555555555556,
              "#d8576b"
             ],
             [
              0.6666666666666666,
              "#ed7953"
             ],
             [
              0.7777777777777778,
              "#fb9f3a"
             ],
             [
              0.8888888888888888,
              "#fdca26"
             ],
             [
              1,
              "#f0f921"
             ]
            ],
            "type": "heatmapgl"
           }
          ],
          "histogram": [
           {
            "marker": {
             "pattern": {
              "fillmode": "overlay",
              "size": 10,
              "solidity": 0.2
             }
            },
            "type": "histogram"
           }
          ],
          "histogram2d": [
           {
            "colorbar": {
             "outlinewidth": 0,
             "ticks": ""
            },
            "colorscale": [
             [
              0,
              "#0d0887"
             ],
             [
              0.1111111111111111,
              "#46039f"
             ],
             [
              0.2222222222222222,
              "#7201a8"
             ],
             [
              0.3333333333333333,
              "#9c179e"
             ],
             [
              0.4444444444444444,
              "#bd3786"
             ],
             [
              0.5555555555555556,
              "#d8576b"
             ],
             [
              0.6666666666666666,
              "#ed7953"
             ],
             [
              0.7777777777777778,
              "#fb9f3a"
             ],
             [
              0.8888888888888888,
              "#fdca26"
             ],
             [
              1,
              "#f0f921"
             ]
            ],
            "type": "histogram2d"
           }
          ],
          "histogram2dcontour": [
           {
            "colorbar": {
             "outlinewidth": 0,
             "ticks": ""
            },
            "colorscale": [
             [
              0,
              "#0d0887"
             ],
             [
              0.1111111111111111,
              "#46039f"
             ],
             [
              0.2222222222222222,
              "#7201a8"
             ],
             [
              0.3333333333333333,
              "#9c179e"
             ],
             [
              0.4444444444444444,
              "#bd3786"
             ],
             [
              0.5555555555555556,
              "#d8576b"
             ],
             [
              0.6666666666666666,
              "#ed7953"
             ],
             [
              0.7777777777777778,
              "#fb9f3a"
             ],
             [
              0.8888888888888888,
              "#fdca26"
             ],
             [
              1,
              "#f0f921"
             ]
            ],
            "type": "histogram2dcontour"
           }
          ],
          "mesh3d": [
           {
            "colorbar": {
             "outlinewidth": 0,
             "ticks": ""
            },
            "type": "mesh3d"
           }
          ],
          "parcoords": [
           {
            "line": {
             "colorbar": {
              "outlinewidth": 0,
              "ticks": ""
             }
            },
            "type": "parcoords"
           }
          ],
          "pie": [
           {
            "automargin": true,
            "type": "pie"
           }
          ],
          "scatter": [
           {
            "fillpattern": {
             "fillmode": "overlay",
             "size": 10,
             "solidity": 0.2
            },
            "type": "scatter"
           }
          ],
          "scatter3d": [
           {
            "line": {
             "colorbar": {
              "outlinewidth": 0,
              "ticks": ""
             }
            },
            "marker": {
             "colorbar": {
              "outlinewidth": 0,
              "ticks": ""
             }
            },
            "type": "scatter3d"
           }
          ],
          "scattercarpet": [
           {
            "marker": {
             "colorbar": {
              "outlinewidth": 0,
              "ticks": ""
             }
            },
            "type": "scattercarpet"
           }
          ],
          "scattergeo": [
           {
            "marker": {
             "colorbar": {
              "outlinewidth": 0,
              "ticks": ""
             }
            },
            "type": "scattergeo"
           }
          ],
          "scattergl": [
           {
            "marker": {
             "colorbar": {
              "outlinewidth": 0,
              "ticks": ""
             }
            },
            "type": "scattergl"
           }
          ],
          "scattermapbox": [
           {
            "marker": {
             "colorbar": {
              "outlinewidth": 0,
              "ticks": ""
             }
            },
            "type": "scattermapbox"
           }
          ],
          "scatterpolar": [
           {
            "marker": {
             "colorbar": {
              "outlinewidth": 0,
              "ticks": ""
             }
            },
            "type": "scatterpolar"
           }
          ],
          "scatterpolargl": [
           {
            "marker": {
             "colorbar": {
              "outlinewidth": 0,
              "ticks": ""
             }
            },
            "type": "scatterpolargl"
           }
          ],
          "scatterternary": [
           {
            "marker": {
             "colorbar": {
              "outlinewidth": 0,
              "ticks": ""
             }
            },
            "type": "scatterternary"
           }
          ],
          "surface": [
           {
            "colorbar": {
             "outlinewidth": 0,
             "ticks": ""
            },
            "colorscale": [
             [
              0,
              "#0d0887"
             ],
             [
              0.1111111111111111,
              "#46039f"
             ],
             [
              0.2222222222222222,
              "#7201a8"
             ],
             [
              0.3333333333333333,
              "#9c179e"
             ],
             [
              0.4444444444444444,
              "#bd3786"
             ],
             [
              0.5555555555555556,
              "#d8576b"
             ],
             [
              0.6666666666666666,
              "#ed7953"
             ],
             [
              0.7777777777777778,
              "#fb9f3a"
             ],
             [
              0.8888888888888888,
              "#fdca26"
             ],
             [
              1,
              "#f0f921"
             ]
            ],
            "type": "surface"
           }
          ],
          "table": [
           {
            "cells": {
             "fill": {
              "color": "#EBF0F8"
             },
             "line": {
              "color": "white"
             }
            },
            "header": {
             "fill": {
              "color": "#C8D4E3"
             },
             "line": {
              "color": "white"
             }
            },
            "type": "table"
           }
          ]
         },
         "layout": {
          "annotationdefaults": {
           "arrowcolor": "#2a3f5f",
           "arrowhead": 0,
           "arrowwidth": 1
          },
          "autotypenumbers": "strict",
          "coloraxis": {
           "colorbar": {
            "outlinewidth": 0,
            "ticks": ""
           }
          },
          "colorscale": {
           "diverging": [
            [
             0,
             "#8e0152"
            ],
            [
             0.1,
             "#c51b7d"
            ],
            [
             0.2,
             "#de77ae"
            ],
            [
             0.3,
             "#f1b6da"
            ],
            [
             0.4,
             "#fde0ef"
            ],
            [
             0.5,
             "#f7f7f7"
            ],
            [
             0.6,
             "#e6f5d0"
            ],
            [
             0.7,
             "#b8e186"
            ],
            [
             0.8,
             "#7fbc41"
            ],
            [
             0.9,
             "#4d9221"
            ],
            [
             1,
             "#276419"
            ]
           ],
           "sequential": [
            [
             0,
             "#0d0887"
            ],
            [
             0.1111111111111111,
             "#46039f"
            ],
            [
             0.2222222222222222,
             "#7201a8"
            ],
            [
             0.3333333333333333,
             "#9c179e"
            ],
            [
             0.4444444444444444,
             "#bd3786"
            ],
            [
             0.5555555555555556,
             "#d8576b"
            ],
            [
             0.6666666666666666,
             "#ed7953"
            ],
            [
             0.7777777777777778,
             "#fb9f3a"
            ],
            [
             0.8888888888888888,
             "#fdca26"
            ],
            [
             1,
             "#f0f921"
            ]
           ],
           "sequentialminus": [
            [
             0,
             "#0d0887"
            ],
            [
             0.1111111111111111,
             "#46039f"
            ],
            [
             0.2222222222222222,
             "#7201a8"
            ],
            [
             0.3333333333333333,
             "#9c179e"
            ],
            [
             0.4444444444444444,
             "#bd3786"
            ],
            [
             0.5555555555555556,
             "#d8576b"
            ],
            [
             0.6666666666666666,
             "#ed7953"
            ],
            [
             0.7777777777777778,
             "#fb9f3a"
            ],
            [
             0.8888888888888888,
             "#fdca26"
            ],
            [
             1,
             "#f0f921"
            ]
           ]
          },
          "colorway": [
           "#636efa",
           "#EF553B",
           "#00cc96",
           "#ab63fa",
           "#FFA15A",
           "#19d3f3",
           "#FF6692",
           "#B6E880",
           "#FF97FF",
           "#FECB52"
          ],
          "font": {
           "color": "#2a3f5f"
          },
          "geo": {
           "bgcolor": "white",
           "lakecolor": "white",
           "landcolor": "#E5ECF6",
           "showlakes": true,
           "showland": true,
           "subunitcolor": "white"
          },
          "hoverlabel": {
           "align": "left"
          },
          "hovermode": "closest",
          "mapbox": {
           "style": "light"
          },
          "paper_bgcolor": "white",
          "plot_bgcolor": "#E5ECF6",
          "polar": {
           "angularaxis": {
            "gridcolor": "white",
            "linecolor": "white",
            "ticks": ""
           },
           "bgcolor": "#E5ECF6",
           "radialaxis": {
            "gridcolor": "white",
            "linecolor": "white",
            "ticks": ""
           }
          },
          "scene": {
           "xaxis": {
            "backgroundcolor": "#E5ECF6",
            "gridcolor": "white",
            "gridwidth": 2,
            "linecolor": "white",
            "showbackground": true,
            "ticks": "",
            "zerolinecolor": "white"
           },
           "yaxis": {
            "backgroundcolor": "#E5ECF6",
            "gridcolor": "white",
            "gridwidth": 2,
            "linecolor": "white",
            "showbackground": true,
            "ticks": "",
            "zerolinecolor": "white"
           },
           "zaxis": {
            "backgroundcolor": "#E5ECF6",
            "gridcolor": "white",
            "gridwidth": 2,
            "linecolor": "white",
            "showbackground": true,
            "ticks": "",
            "zerolinecolor": "white"
           }
          },
          "shapedefaults": {
           "line": {
            "color": "#2a3f5f"
           }
          },
          "ternary": {
           "aaxis": {
            "gridcolor": "white",
            "linecolor": "white",
            "ticks": ""
           },
           "baxis": {
            "gridcolor": "white",
            "linecolor": "white",
            "ticks": ""
           },
           "bgcolor": "#E5ECF6",
           "caxis": {
            "gridcolor": "white",
            "linecolor": "white",
            "ticks": ""
           }
          },
          "title": {
           "x": 0.05
          },
          "xaxis": {
           "automargin": true,
           "gridcolor": "white",
           "linecolor": "white",
           "ticks": "",
           "title": {
            "standoff": 15
           },
           "zerolinecolor": "white",
           "zerolinewidth": 2
          },
          "yaxis": {
           "automargin": true,
           "gridcolor": "white",
           "linecolor": "white",
           "ticks": "",
           "title": {
            "standoff": 15
           },
           "zerolinecolor": "white",
           "zerolinewidth": 2
          }
         }
        },
        "title": {
         "text": "Distribution of Tastes"
        },
        "xaxis": {
         "anchor": "y",
         "categoryarray": [
          "blue hawaii",
          "green apple",
          "strawberry",
          "punch",
          "lychee",
          "orange",
          "mixed"
         ],
         "categoryorder": "array",
         "domain": [
          0,
          1
         ],
         "title": {
          "text": "Taste"
         }
        },
        "yaxis": {
         "anchor": "x",
         "domain": [
          0,
          1
         ],
         "title": {
          "text": "Frequency"
         }
        }
       }
      }
     },
     "metadata": {},
     "output_type": "display_data"
    }
   ],
   "source": [
    "import plotly.express as px\n",
    "\n",
    "fig = px.histogram(order_prep, x='taste', color='taste',\n",
    "                   title='Distribution of Tastes',\n",
    "                   category_orders={'taste': desired_order}, # Ensure the order of bars\n",
    "                   color_discrete_map=color_mapping)\n",
    "fig.update_layout(xaxis_title='Taste', yaxis_title='Frequency')\n",
    "fig.show()"
   ]
  },
  {
   "cell_type": "code",
   "execution_count": null,
   "id": "cd25b712",
   "metadata": {},
   "outputs": [],
   "source": []
  },
  {
   "cell_type": "code",
   "execution_count": null,
   "id": "8414739e",
   "metadata": {},
   "outputs": [],
   "source": []
  }
 ],
 "metadata": {
  "kernelspec": {
   "display_name": "Python 3",
   "language": "python",
   "name": "python3"
  },
  "language_info": {
   "codemirror_mode": {
    "name": "ipython",
    "version": 3
   },
   "file_extension": ".py",
   "mimetype": "text/x-python",
   "name": "python",
   "nbconvert_exporter": "python",
   "pygments_lexer": "ipython3",
   "version": "3.12.6"
  }
 },
 "nbformat": 4,
 "nbformat_minor": 5
}
